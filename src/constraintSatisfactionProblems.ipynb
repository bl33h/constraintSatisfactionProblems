{
 "cells": [
  {
   "cell_type": "markdown",
   "metadata": {},
   "source": [
    "# Problemas de Satisfacción de Restricciones\n",
    "- Ricardo Méndez 21289\n",
    "- Sara Echeverría 21371\n",
    "- Francisco Castillo 21562\n",
    "- Repositorio de Github: https://github.com/bl33h/constraintSatisfactionProblems"
   ]
  },
  {
   "cell_type": "markdown",
   "metadata": {},
   "source": [
    "# Task 1 - Teoría\n",
    "## Algoritmo AC-3 y su relación con el algoritmo de backtracking search\n",
    "## Arc Consistency"
   ]
  },
  {
   "metadata": {},
   "cell_type": "markdown",
   "source": "## Referencias"
  },
  {
   "cell_type": "markdown",
   "metadata": {},
   "source": [
    "# Task 2\n",
    "\n",
    "### Restricciones\n",
    "- 4 estudiantes y 7 exámenes diferentes\n",
    "- Todos los exámenes se realizan en tres días\n",
    "- Ningún estudiante puede tener más de un exámen por día.\n",
    "- Los estudiantes que toman el mismo curso no pueden tener exámenes programados para el mismo día"
   ]
  },
  {
   "metadata": {
    "ExecuteTime": {
     "end_time": "2024-04-08T05:10:16.248364Z",
     "start_time": "2024-04-08T05:10:16.244459Z"
    }
   },
   "cell_type": "code",
   "source": [
    "import time\n",
    "import random\n",
    "from abc import abstractmethod\n",
    "\n",
    "random.seed(123)"
   ],
   "outputs": [],
   "execution_count": 155
  },
  {
   "metadata": {
    "ExecuteTime": {
     "end_time": "2024-04-08T05:10:16.282855Z",
     "start_time": "2024-04-08T05:10:16.278849Z"
    }
   },
   "cell_type": "code",
   "source": [
    "exams = ['Math', 'Physics', 'Chemistry', 'History', 'Biology', 'Geography', 'Literature']\n",
    "days = ['Monday', 'Tuesday', 'Wednesday']\n",
    "students_names = ['Francisco', 'Sara', 'Ricardo', 'Fulanito']"
   ],
   "outputs": [],
   "execution_count": 156
  },
  {
   "metadata": {
    "ExecuteTime": {
     "end_time": "2024-04-08T05:10:16.313432Z",
     "start_time": "2024-04-08T05:10:16.308582Z"
    }
   },
   "cell_type": "code",
   "source": [
    "class Student:\n",
    "    def __init__(self, name):\n",
    "        self.name = name\n",
    "        self.exams = {'None'}\n",
    "\n",
    "    def add_exam(self, exam):\n",
    "        self.exams.add(exam)\n",
    "\n",
    "    def __str__(self):\n",
    "        return self.name\n",
    "\n",
    "    def __repr__(self):\n",
    "        return self.name\n",
    "\n",
    "    def __eq__(self, other):\n",
    "        return self.name == other.name\n",
    "\n",
    "    def __hash__(self):\n",
    "        return hash(self.name)"
   ],
   "outputs": [],
   "execution_count": 157
  },
  {
   "metadata": {
    "ExecuteTime": {
     "end_time": "2024-04-08T05:10:16.327870Z",
     "start_time": "2024-04-08T05:10:16.322437Z"
    }
   },
   "cell_type": "code",
   "source": [
    "# Create Students\n",
    "students = []\n",
    "for name in students_names:\n",
    "    students.append(Student(name))\n",
    "\n",
    "# Assign Exams to Students\n",
    "for i in range(len(exams)):\n",
    "    students[i % len(students)].add_exam(exams[i])\n",
    "\n",
    "# Assign Exams until each student has 3 different exams\n",
    "for student in students:\n",
    "    while len(student.exams) < 4:\n",
    "        additional_exam = random.choice(exams)\n",
    "        student.add_exam(additional_exam)\n",
    "\n",
    "# Print students and their exams\n",
    "print('Students and their exams:')\n",
    "for student in students:\n",
    "    print(f'{student}: {[exam for exam in student.exams]}')"
   ],
   "outputs": [
    {
     "name": "stdout",
     "output_type": "stream",
     "text": [
      "Students and their exams:\n",
      "Francisco: ['None', 'Biology', 'Math', 'Chemistry']\n",
      "Sara: ['Physics', 'None', 'Math', 'Geography']\n",
      "Ricardo: ['Literature', 'History', 'None', 'Chemistry']\n",
      "Fulanito: ['None', 'History', 'Math', 'Chemistry']\n"
     ]
    }
   ],
   "execution_count": 158
  },
  {
   "metadata": {
    "ExecuteTime": {
     "end_time": "2024-04-08T05:10:16.333599Z",
     "start_time": "2024-04-08T05:10:16.329870Z"
    }
   },
   "cell_type": "code",
   "source": [
    "class Constraint:\n",
    "    def __init__(self, variables):\n",
    "        self.variables = variables\n",
    "    \n",
    "    @abstractmethod\n",
    "    def is_satisfied(self, assignment):\n",
    "        pass"
   ],
   "outputs": [],
   "execution_count": 159
  },
  {
   "metadata": {
    "ExecuteTime": {
     "end_time": "2024-04-08T05:10:16.339716Z",
     "start_time": "2024-04-08T05:10:16.334599Z"
    }
   },
   "cell_type": "code",
   "source": [
    "class CSP:\n",
    "    def __init__(self, variables, domains):\n",
    "        self.variables = variables\n",
    "        self.domains = domains\n",
    "        self.constraints = {}\n",
    "        self.solution = None\n",
    "\n",
    "    def add_constraint(self, constraint):\n",
    "        for variable in constraint.variables:\n",
    "            if variable not in self.constraints:\n",
    "                raise LookupError(f'Variable {variable} not in CSP')\n",
    "            self.constraints[variable].append(constraint)\n",
    "\n",
    "    def is_consistent(self, variable, assignment):\n",
    "        for constraint in self.constraints[variable]:\n",
    "            if not constraint.is_satisfied(assignment):\n",
    "                return False\n",
    "        return True"
   ],
   "outputs": [],
   "execution_count": 160
  },
  {
   "metadata": {
    "ExecuteTime": {
     "end_time": "2024-04-08T05:10:16.344349Z",
     "start_time": "2024-04-08T05:10:16.340716Z"
    }
   },
   "cell_type": "code",
   "source": [
    "class OneExamPerDayConstraint(Constraint):\n",
    "    def __init__(self, students):\n",
    "        super().__init__(students)\n",
    "        self.students = students\n",
    "\n",
    "    def is_satisfied(self, assignment):\n",
    "        for day in assignment:\n",
    "            \n",
    "            "
   ],
   "outputs": [],
   "execution_count": 161
  },
  {
   "metadata": {
    "ExecuteTime": {
     "end_time": "2024-04-08T05:10:16.362120Z",
     "start_time": "2024-04-08T05:10:16.355956Z"
    }
   },
   "cell_type": "code",
   "source": [
    "# Variables: Day of the week\n",
    "variables = exams.copy()\n",
    "\n",
    "# Domains: A tuple (day, student) for each exam\n",
    "domains = {}\n",
    "for variable in variables:\n",
    "    domains[variable] = []\n",
    "    for student in students:\n",
    "        for exam in student.exams:\n",
    "            domains[variable].append((student, exam))\n",
    "\n",
    "# Constraints\n",
    "domains"
   ],
   "outputs": [
    {
     "data": {
      "text/plain": [
       "{'Monday': [(Francisco, 'None'),\n",
       "  (Francisco, 'Biology'),\n",
       "  (Francisco, 'Math'),\n",
       "  (Francisco, 'Chemistry'),\n",
       "  (Sara, 'Physics'),\n",
       "  (Sara, 'None'),\n",
       "  (Sara, 'Math'),\n",
       "  (Sara, 'Geography'),\n",
       "  (Ricardo, 'Literature'),\n",
       "  (Ricardo, 'History'),\n",
       "  (Ricardo, 'None'),\n",
       "  (Ricardo, 'Chemistry'),\n",
       "  (Fulanito, 'None'),\n",
       "  (Fulanito, 'History'),\n",
       "  (Fulanito, 'Math'),\n",
       "  (Fulanito, 'Chemistry')],\n",
       " 'Tuesday': [(Francisco, 'None'),\n",
       "  (Francisco, 'Biology'),\n",
       "  (Francisco, 'Math'),\n",
       "  (Francisco, 'Chemistry'),\n",
       "  (Sara, 'Physics'),\n",
       "  (Sara, 'None'),\n",
       "  (Sara, 'Math'),\n",
       "  (Sara, 'Geography'),\n",
       "  (Ricardo, 'Literature'),\n",
       "  (Ricardo, 'History'),\n",
       "  (Ricardo, 'None'),\n",
       "  (Ricardo, 'Chemistry'),\n",
       "  (Fulanito, 'None'),\n",
       "  (Fulanito, 'History'),\n",
       "  (Fulanito, 'Math'),\n",
       "  (Fulanito, 'Chemistry')],\n",
       " 'Wednesday': [(Francisco, 'None'),\n",
       "  (Francisco, 'Biology'),\n",
       "  (Francisco, 'Math'),\n",
       "  (Francisco, 'Chemistry'),\n",
       "  (Sara, 'Physics'),\n",
       "  (Sara, 'None'),\n",
       "  (Sara, 'Math'),\n",
       "  (Sara, 'Geography'),\n",
       "  (Ricardo, 'Literature'),\n",
       "  (Ricardo, 'History'),\n",
       "  (Ricardo, 'None'),\n",
       "  (Ricardo, 'Chemistry'),\n",
       "  (Fulanito, 'None'),\n",
       "  (Fulanito, 'History'),\n",
       "  (Fulanito, 'Math'),\n",
       "  (Fulanito, 'Chemistry')]}"
      ]
     },
     "execution_count": 162,
     "metadata": {},
     "output_type": "execute_result"
    }
   ],
   "execution_count": 162
  },
  {
   "cell_type": "markdown",
   "metadata": {},
   "source": [
    "## Backtracking Search "
   ]
  },
  {
   "metadata": {
    "ExecuteTime": {
     "end_time": "2024-04-08T05:10:16.375159Z",
     "start_time": "2024-04-08T05:10:16.369104Z"
    }
   },
   "cell_type": "code",
   "source": [
    "class CSPBacktracking(CSP):\n",
    "    def __init__(self, variables, domains):\n",
    "        super().__init__(variables, domains)\n",
    "        self.solution = {}\n",
    "\n",
    "    def backtracking_search(self, assignment={}):\n",
    "        if len(assignment) == len(self.variables):\n",
    "            return assignment\n",
    "\n",
    "        unassigned = [v for v in self.variables if v not in assignment]\n",
    "        first = unassigned[0]\n",
    "        for value in self.domains[first]:\n",
    "            local_assignment = assignment.copy()\n",
    "            local_assignment[first] = value\n",
    "            if self.is_consistent(first, local_assignment):\n",
    "                result = self.backtracking_search(local_assignment)\n",
    "                if result is not None:\n",
    "                    return result\n",
    "        return None\n",
    "    \n",
    "    def print_solution(self):\n",
    "        for key, value in self.solution.items():\n",
    "            print(f'{key} - {value}')"
   ],
   "outputs": [],
   "execution_count": 163
  },
  {
   "metadata": {
    "ExecuteTime": {
     "end_time": "2024-04-08T05:10:16.388422Z",
     "start_time": "2024-04-08T05:10:16.384139Z"
    }
   },
   "cell_type": "code",
   "source": [
    "# Create constraints\n",
    "class StudentDayConstraint(Constraint):\n",
    "    def __init__(self, students):\n",
    "        super().__init__(students)\n",
    "        self.students = students\n",
    "\n",
    "    def is_satisfied(self, assignment):\n",
    "        for student in self.students:\n",
    "            if student not in assignment:\n",
    "                continue\n",
    "            for other_student in self.students:\n",
    "                if other_student not in assignment:\n",
    "                    continue\n",
    "                if student == other_student:\n",
    "                    continue\n",
    "                if assignment[student] == assignment[other_student]:\n",
    "                    return False\n",
    "        return True"
   ],
   "outputs": [],
   "execution_count": 164
  },
  {
   "cell_type": "markdown",
   "metadata": {},
   "source": [
    "## Beam Search"
   ]
  },
  {
   "cell_type": "markdown",
   "metadata": {},
   "source": [
    "## Local Search"
   ]
  },
  {
   "cell_type": "markdown",
   "metadata": {},
   "source": [
    "# Conclusiones\n",
    "De cada uno de los algoritmos implementados, tome el tiempo que le toma encontrar una solución, y compare no\n",
    "solo el tiempo, sino también la solución encontrada de cada uno. "
   ]
  }
 ],
 "metadata": {
  "kernelspec": {
   "display_name": "Python 3 (ipykernel)",
   "language": "python",
   "name": "python3"
  },
  "language_info": {
   "name": "python",
   "version": "3.9.13"
  }
 },
 "nbformat": 4,
 "nbformat_minor": 2
}
