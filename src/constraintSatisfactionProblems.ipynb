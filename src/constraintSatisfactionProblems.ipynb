{
 "cells": [
  {
   "cell_type": "markdown",
   "metadata": {},
   "source": [
    "# Problemas de Satisfacción de Restricciones\n",
    "- Ricardo Méndez 21289\n",
    "- Sara Echeverría 21371\n",
    "- Francisco Castillo 21562\n",
    "- Repositorio de Github: https://github.com/bl33h/constraintSatisfactionProblems"
   ]
  },
  {
   "cell_type": "markdown",
   "metadata": {},
   "source": [
    "# Task 1 - Teoría\n",
    "## Algoritmo AC-3 y su relación con el algoritmo de backtracking search\n",
    "El algoritmo AC-3 optimiza la resolución de problemas de satisfacción de restricciones (CSP) eliminando previamente valores que no pueden satisfacer las restricciones entre variables, reduciendo así el espacio de búsqueda. Por su parte, el algoritmo de backtracking explora este espacio simplificado para encontrar soluciones, retrocediendo cuando una ruta no conduce a una solución válida. Su relación radica en la combinación de estos, pues dan como resultado una estrategia eficaz en la cual AC-3 reduce el espacio de posibilidades y el algoritmo de backtracking navega por este espacio optimizado en busca de la solución (Gao, 2024).\n",
    "\n",
    "## Arc Consistency\n",
    "El término de ‘Arc Consistency’ describe un método eficaz para abordar problemas de satisfacción de restricciones, mediante el cual se eliminan las opciones inviables que no se ajustan a las restricciones establecidas (Brown, 2010)."
   ]
  },
  {
   "cell_type": "markdown",
   "metadata": {},
   "source": [
    "## Referencias"
   ]
  },
  {
   "cell_type": "markdown",
   "metadata": {},
   "source": [
    "- Brown. (2010). CSPs: Arc Consistency. The University of British Columbia. https://www.cs.ubc.ca/~kevinlb/teaching/cs322%20-%202009-10/Lectures/CSP3.pdf\n",
    "- Gao. (2024). Constraint Satisfaction Problems: Backtracking Search and Arc Consistency. University of Waterloo. https://cs.uwaterloo.ca/~a23gao/cs486686_s19/slides/lec05_csp_arc_consistency_backtracking_search_nosol.pdf"
   ]
  },
  {
   "cell_type": "markdown",
   "metadata": {},
   "source": [
    "# Task 2\n",
    "\n",
    "### Restricciones\n",
    "- 4 estudiantes y 7 exámenes diferentes\n",
    "- Todos los exámenes se realizan en tres días\n",
    "- Ningún estudiante puede tener más de un exámen por día.\n",
    "- Los estudiantes que toman el mismo curso no pueden tener exámenes programados para el mismo día"
   ]
  },
  {
   "cell_type": "code",
   "execution_count": 117,
   "metadata": {
    "ExecuteTime": {
     "end_time": "2024-04-08T23:41:44.942671Z",
     "start_time": "2024-04-08T23:41:44.938969Z"
    }
   },
   "outputs": [],
   "source": [
    "import time\n",
    "import random\n",
    "from abc import abstractmethod\n",
    "\n",
    "random.seed(123)"
   ]
  },
  {
   "cell_type": "code",
   "execution_count": 118,
   "metadata": {
    "ExecuteTime": {
     "end_time": "2024-04-08T23:41:44.982011Z",
     "start_time": "2024-04-08T23:41:44.976389Z"
    }
   },
   "outputs": [],
   "source": [
    "exams = ['Math', 'Physics', 'Chemistry', 'History', 'Biology', 'Geography', 'Literature']\n",
    "days = ['Monday', 'Tuesday', 'Wednesday']\n",
    "students_names = ['Francisco', 'Sara', 'Ricardo', 'Fulanito']"
   ]
  },
  {
   "cell_type": "code",
   "execution_count": 119,
   "metadata": {
    "ExecuteTime": {
     "end_time": "2024-04-08T23:41:45.010309Z",
     "start_time": "2024-04-08T23:41:45.006181Z"
    }
   },
   "outputs": [],
   "source": [
    "class Student:\n",
    "    def __init__(self, name):\n",
    "        self.name = name\n",
    "        self.exams = {'None'}\n",
    "\n",
    "    def add_exam(self, exam):\n",
    "        self.exams.add(exam)\n",
    "\n",
    "    def __str__(self):\n",
    "        return self.name\n",
    "\n",
    "    def __repr__(self):\n",
    "        return self.name\n",
    "\n",
    "    def __eq__(self, other):\n",
    "        return self.name == other.name\n",
    "\n",
    "    def __hash__(self):\n",
    "        return hash(self.name)"
   ]
  },
  {
   "cell_type": "code",
   "execution_count": 120,
   "metadata": {
    "ExecuteTime": {
     "end_time": "2024-04-08T23:41:45.016281Z",
     "start_time": "2024-04-08T23:41:45.011313Z"
    }
   },
   "outputs": [
    {
     "name": "stdout",
     "output_type": "stream",
     "text": [
      "Students and their exams:\n",
      "Francisco: ['None', 'Chemistry', 'Math', 'Biology']\n",
      "Sara: ['None', 'Geography', 'Physics', 'Math']\n",
      "Ricardo: ['None', 'Chemistry', 'History', 'Literature']\n",
      "Fulanito: ['None', 'Chemistry', 'History', 'Math']\n"
     ]
    }
   ],
   "source": [
    "# Create Students\n",
    "students = []\n",
    "for name in students_names:\n",
    "    students.append(Student(name))\n",
    "\n",
    "# Assign Exams to Students\n",
    "for i in range(len(exams)):\n",
    "    students[i % len(students)].add_exam(exams[i])\n",
    "\n",
    "# Assign Exams until each student has 3 different exams\n",
    "for student in students:\n",
    "    while len(student.exams) < 4:\n",
    "        additional_exam = random.choice(exams)\n",
    "        student.add_exam(additional_exam)\n",
    "\n",
    "# Print students and their exams\n",
    "print('Students and their exams:')\n",
    "for student in students:\n",
    "    print(f'{student}: {[exam for exam in student.exams]}')"
   ]
  },
  {
   "cell_type": "code",
   "execution_count": 121,
   "metadata": {
    "ExecuteTime": {
     "end_time": "2024-04-08T23:41:45.024265Z",
     "start_time": "2024-04-08T23:41:45.017316Z"
    }
   },
   "outputs": [
    {
     "data": {
      "text/plain": [
       "{(Francisco, 'Monday'): ['None', 'Chemistry', 'Math', 'Biology'],\n",
       " (Francisco, 'Tuesday'): ['None', 'Chemistry', 'Math', 'Biology'],\n",
       " (Francisco, 'Wednesday'): ['None', 'Chemistry', 'Math', 'Biology'],\n",
       " (Sara, 'Monday'): ['None', 'Geography', 'Physics', 'Math'],\n",
       " (Sara, 'Tuesday'): ['None', 'Geography', 'Physics', 'Math'],\n",
       " (Sara, 'Wednesday'): ['None', 'Geography', 'Physics', 'Math'],\n",
       " (Ricardo, 'Monday'): ['None', 'Chemistry', 'History', 'Literature'],\n",
       " (Ricardo, 'Tuesday'): ['None', 'Chemistry', 'History', 'Literature'],\n",
       " (Ricardo, 'Wednesday'): ['None', 'Chemistry', 'History', 'Literature'],\n",
       " (Fulanito, 'Monday'): ['None', 'Chemistry', 'History', 'Math'],\n",
       " (Fulanito, 'Tuesday'): ['None', 'Chemistry', 'History', 'Math'],\n",
       " (Fulanito, 'Wednesday'): ['None', 'Chemistry', 'History', 'Math']}"
      ]
     },
     "execution_count": 121,
     "metadata": {},
     "output_type": "execute_result"
    }
   ],
   "source": [
    "variables = []\n",
    "for student in students:\n",
    "    for day in days:\n",
    "        variables.append((student, day))\n",
    "\n",
    "domains = {}\n",
    "for var in variables:\n",
    "    domains[var] = [exam for exam in var[0].exams]\n",
    "\n",
    "domains"
   ]
  },
  {
   "cell_type": "code",
   "execution_count": 122,
   "metadata": {
    "ExecuteTime": {
     "end_time": "2024-04-08T23:41:45.030444Z",
     "start_time": "2024-04-08T23:41:45.026482Z"
    }
   },
   "outputs": [],
   "source": [
    "# Constraints\n",
    "# NOTE THAT, BY THE NATURE OF THE ASSIGNMENT, THE STUDENT CAN'T TAKE MORE THAN ONE EXAM PER DAY\n",
    "def constraint_all_exams_taken(assignment: dict) -> bool:\n",
    "    # All values of the exams list must be in the values of the dict\n",
    "    exams_taken = []\n",
    "    for var in assignment:\n",
    "        if assignment[var] != 'None':\n",
    "            exams_taken.append(assignment[var])\n",
    "    return set(exams) == set(exams_taken)  # If all the exams in the list are part of the assignment, return True"
   ]
  },
  {
   "cell_type": "code",
   "execution_count": 122,
   "metadata": {
    "ExecuteTime": {
     "end_time": "2024-04-08T23:41:45.038343Z",
     "start_time": "2024-04-08T23:41:45.035952Z"
    }
   },
   "outputs": [],
   "source": [
    "def constraint_one_exam_type_per_day(assignment: dict) -> bool:\n",
    "    # At max one exam of each type per day\n",
    "    exams_taken = {}  # day: list[exams]\n",
    "    for day in days:\n",
    "        exams_taken[day] = []\n",
    "    for var in assignment:\n",
    "        if assignment[var] != 'None':\n",
    "            if assignment[var] in exams_taken[var[1]]:\n",
    "                return False\n",
    "            exams_taken[var[1]].append(assignment[var])\n",
    "    return True"
   ]
  },
  {
   "cell_type": "markdown",
   "metadata": {},
   "source": [
    "## Backtracking Search "
   ]
  },
  {
   "cell_type": "markdown",
   "metadata": {},
   "source": [
    "## Beam Search"
   ]
  },
  {
   "cell_type": "markdown",
   "metadata": {},
   "source": [
    "## Local Search"
   ]
  },
  {
   "cell_type": "markdown",
   "metadata": {},
   "source": [
    "# Conclusiones\n",
    "De cada uno de los algoritmos implementados, tome el tiempo que le toma encontrar una solución, y compare no\n",
    "solo el tiempo, sino también la solución encontrada de cada uno. "
   ]
  }
 ],
 "metadata": {
  "kernelspec": {
   "display_name": "Python 3 (ipykernel)",
   "language": "python",
   "name": "python3"
  },
  "language_info": {
   "name": "python",
   "version": "3.9.13"
  }
 },
 "nbformat": 4,
 "nbformat_minor": 2
}
