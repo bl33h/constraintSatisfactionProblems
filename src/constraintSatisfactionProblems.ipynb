{
 "cells": [
  {
   "cell_type": "markdown",
   "metadata": {},
   "source": [
    "# Problemas de Satisfacción de Restricciones\n",
    "- Ricardo Méndez 21289\n",
    "- Sara Echeverría 21371\n",
    "- Francisco Castillo 21562\n",
    "- Repositorio de Github: https://github.com/bl33h/constraintSatisfactionProblems"
   ]
  },
  {
   "cell_type": "markdown",
   "metadata": {},
   "source": "# Task 1 - Teoría"
  },
  {
   "metadata": {},
   "cell_type": "markdown",
   "source": [
    "## Algoritmo AC-3 y su relación con el algoritmo de backtracking search\n",
    "El algoritmo AC-3 optimiza la resolución de problemas de satisfacción de restricciones (CSP) eliminando previamente valores que no pueden satisfacer las restricciones entre variables, reduciendo así el espacio de búsqueda. Por su parte, el algoritmo de backtracking explora este espacio simplificado para encontrar soluciones, retrocediendo cuando una ruta no conduce a una solución válida. Su relación radica en la combinación de estos, pues dan como resultado una estrategia eficaz en la cual AC-3 reduce el espacio de posibilidades y el algoritmo de backtracking navega por este espacio optimizado en busca de la solución (Gao, 2024).\n"
   ]
  },
  {
   "metadata": {},
   "cell_type": "markdown",
   "source": [
    "## Arc Consistency\n",
    "El término de ‘Arc Consistency’ describe un método eficaz para abordar problemas de satisfacción de restricciones, mediante el cual se eliminan las opciones inviables que no se ajustan a las restricciones establecidas (Brown, 2010)."
   ]
  },
  {
   "cell_type": "markdown",
   "metadata": {},
   "source": [
    "## Referencias\n",
    "- Brown. (2010). CSPs: Arc Consistency. The University of British Columbia. https://www.cs.ubc.ca/~kevinlb/teaching/cs322%20-%202009-10/Lectures/CSP3.pdf\n",
    "- Gao. (2024). Constraint Satisfaction Problems: Backtracking Search and Arc Consistency. University of Waterloo. https://cs.uwaterloo.ca/~a23gao/cs486686_s19/slides/lec05_csp_arc_consistency_backtracking_search_nosol.pdf"
   ]
  },
  {
   "cell_type": "markdown",
   "metadata": {},
   "source": [
    "# Task 2\n",
    "\n",
    "## Restricciones\n",
    "- 4 estudiantes y 7 exámenes diferentes\n",
    "- Todos los exámenes se realizan en tres días\n",
    "- Ningún estudiante puede tener más de un exámen por día.\n",
    "- Los estudiantes que toman el mismo curso no pueden tener exámenes programados para el mismo día"
   ]
  },
  {
   "cell_type": "code",
   "metadata": {
    "ExecuteTime": {
     "end_time": "2024-04-09T04:35:33.215259Z",
     "start_time": "2024-04-09T04:35:33.209853Z"
    }
   },
   "source": [
    "import time\n",
    "import random\n",
    "\n",
    "random.seed(123)"
   ],
   "outputs": [],
   "execution_count": 647
  },
  {
   "metadata": {
    "ExecuteTime": {
     "end_time": "2024-04-09T04:35:33.311741Z",
     "start_time": "2024-04-09T04:35:33.306830Z"
    }
   },
   "cell_type": "code",
   "source": [
    "class MeasureTime:\n",
    "    def __init__(self, ):\n",
    "        self.start = 0\n",
    "        self.end = 0\n",
    "\n",
    "    def __enter__(self):\n",
    "        self.start = time.time()\n",
    "        return self\n",
    "\n",
    "    def __exit__(self, exc_type, exc_val, exc_tb):\n",
    "        self.end = time.time()\n",
    "        print(f'Time elapsed: {self.end - self.start} seconds')\n",
    "        \n",
    "    def get_time(self):\n",
    "        return self.end - self.start"
   ],
   "outputs": [],
   "execution_count": 648
  },
  {
   "metadata": {
    "ExecuteTime": {
     "end_time": "2024-04-09T04:35:33.316448Z",
     "start_time": "2024-04-09T04:35:33.313244Z"
    }
   },
   "cell_type": "code",
   "source": "measure_time = MeasureTime()",
   "outputs": [],
   "execution_count": 649
  },
  {
   "metadata": {
    "ExecuteTime": {
     "end_time": "2024-04-09T04:35:33.320921Z",
     "start_time": "2024-04-09T04:35:33.317477Z"
    }
   },
   "cell_type": "code",
   "source": [
    "results = {\n",
    "    'backtracking': {\n",
    "        'time': None,\n",
    "        'solution': None\n",
    "    },\n",
    "    'beam_search': {\n",
    "        'time': None,\n",
    "        'solution': None\n",
    "    },\n",
    "    'local_search': {\n",
    "        'time': None,\n",
    "        'solution': None\n",
    "    }\n",
    "}"
   ],
   "outputs": [],
   "execution_count": 650
  },
  {
   "metadata": {},
   "cell_type": "markdown",
   "source": "## Definición de Valores"
  },
  {
   "cell_type": "code",
   "metadata": {
    "ExecuteTime": {
     "end_time": "2024-04-09T04:35:33.326537Z",
     "start_time": "2024-04-09T04:35:33.322430Z"
    }
   },
   "source": [
    "exams = ['Math', 'Physics', 'Chemistry', 'History', 'Biology', 'Geography', 'Literature']\n",
    "days = ['Monday', 'Tuesday', 'Wednesday']\n",
    "students_names = ['Francisco', 'Sara', 'Ricardo', 'Fulanito']"
   ],
   "outputs": [],
   "execution_count": 651
  },
  {
   "cell_type": "code",
   "metadata": {
    "ExecuteTime": {
     "end_time": "2024-04-09T04:35:33.342669Z",
     "start_time": "2024-04-09T04:35:33.334088Z"
    }
   },
   "source": [
    "class Student:\n",
    "    def __init__(self, name):\n",
    "        self.name = name\n",
    "        self.exams = {'None'}\n",
    "\n",
    "    def add_exam(self, exam):\n",
    "        self.exams.add(exam)\n",
    "\n",
    "    def __str__(self):\n",
    "        return self.name\n",
    "\n",
    "    def __repr__(self):\n",
    "        return self.name\n",
    "\n",
    "    def __eq__(self, other):\n",
    "        return self.name == other.name\n",
    "\n",
    "    def __hash__(self):\n",
    "        return hash(self.name)"
   ],
   "outputs": [],
   "execution_count": 652
  },
  {
   "metadata": {},
   "cell_type": "markdown",
   "source": "### Creación de estudiantes y asignación de exámenes (para cumplir con las restricciones)"
  },
  {
   "cell_type": "code",
   "metadata": {
    "ExecuteTime": {
     "end_time": "2024-04-09T04:35:33.386731Z",
     "start_time": "2024-04-09T04:35:33.380905Z"
    }
   },
   "source": [
    "# Create Students\n",
    "students = []\n",
    "for name in students_names:\n",
    "    students.append(Student(name))\n",
    "\n",
    "# Assign Exams to Students\n",
    "for i in range(len(exams)):\n",
    "    students[i % len(students)].add_exam(exams[i])\n",
    "\n",
    "# Assign Exams until each student has 3 different exams\n",
    "for student in students:\n",
    "    while len(student.exams) < 4:\n",
    "        additional_exam = random.choice(exams)\n",
    "        student.add_exam(additional_exam)\n",
    "\n",
    "# Print students and their exams\n",
    "print('Students and their exams:')\n",
    "for student in students:\n",
    "    print(f'{student}: {[exam for exam in student.exams]}')"
   ],
   "outputs": [
    {
     "name": "stdout",
     "output_type": "stream",
     "text": [
      "Students and their exams:\n",
      "Francisco: ['None', 'Chemistry', 'Math', 'Biology']\n",
      "Sara: ['None', 'Geography', 'Physics', 'Math']\n",
      "Ricardo: ['None', 'Chemistry', 'History', 'Literature']\n",
      "Fulanito: ['None', 'Chemistry', 'History', 'Math']\n"
     ]
    }
   ],
   "execution_count": 653
  },
  {
   "metadata": {},
   "cell_type": "markdown",
   "source": "### Definición de Variables, Dominios y Restricciones"
  },
  {
   "cell_type": "code",
   "metadata": {
    "ExecuteTime": {
     "end_time": "2024-04-09T04:35:33.417012Z",
     "start_time": "2024-04-09T04:35:33.409922Z"
    }
   },
   "source": [
    "variables = []\n",
    "for student in students:\n",
    "    for day in days:\n",
    "        variables.append((student, day))\n",
    "\n",
    "domains = {}\n",
    "for var in variables:\n",
    "    domains[var] = [exam for exam in var[0].exams]\n",
    "    \n",
    "print('Domains:')\n",
    "domains"
   ],
   "outputs": [
    {
     "name": "stdout",
     "output_type": "stream",
     "text": [
      "Domains:\n"
     ]
    },
    {
     "data": {
      "text/plain": [
       "{(Francisco, 'Monday'): ['None', 'Chemistry', 'Math', 'Biology'],\n",
       " (Francisco, 'Tuesday'): ['None', 'Chemistry', 'Math', 'Biology'],\n",
       " (Francisco, 'Wednesday'): ['None', 'Chemistry', 'Math', 'Biology'],\n",
       " (Sara, 'Monday'): ['None', 'Geography', 'Physics', 'Math'],\n",
       " (Sara, 'Tuesday'): ['None', 'Geography', 'Physics', 'Math'],\n",
       " (Sara, 'Wednesday'): ['None', 'Geography', 'Physics', 'Math'],\n",
       " (Ricardo, 'Monday'): ['None', 'Chemistry', 'History', 'Literature'],\n",
       " (Ricardo, 'Tuesday'): ['None', 'Chemistry', 'History', 'Literature'],\n",
       " (Ricardo, 'Wednesday'): ['None', 'Chemistry', 'History', 'Literature'],\n",
       " (Fulanito, 'Monday'): ['None', 'Chemistry', 'History', 'Math'],\n",
       " (Fulanito, 'Tuesday'): ['None', 'Chemistry', 'History', 'Math'],\n",
       " (Fulanito, 'Wednesday'): ['None', 'Chemistry', 'History', 'Math']}"
      ]
     },
     "execution_count": 654,
     "metadata": {},
     "output_type": "execute_result"
    }
   ],
   "execution_count": 654
  },
  {
   "cell_type": "code",
   "metadata": {
    "ExecuteTime": {
     "end_time": "2024-04-09T04:35:33.437235Z",
     "start_time": "2024-04-09T04:35:33.432678Z"
    }
   },
   "source": [
    "# Constraints\n",
    "# NOTE THAT, BY THE NATURE OF THE ASSIGNMENT, THE STUDENT CAN'T TAKE MORE THAN ONE EXAM PER DAY\n",
    "def constraint_all_exams_taken(assignment: dict) -> bool:\n",
    "    # All values of the exams list must be in the values of the dict\n",
    "    exams_taken = []\n",
    "    for var in assignment:\n",
    "        if assignment[var] != 'None':\n",
    "            exams_taken.append(assignment[var])\n",
    "\n",
    "    return set(exams) == set(exams_taken)  # If all the exams in the list are part of the assignment, return True"
   ],
   "outputs": [],
   "execution_count": 655
  },
  {
   "cell_type": "code",
   "metadata": {
    "ExecuteTime": {
     "end_time": "2024-04-09T04:35:33.444137Z",
     "start_time": "2024-04-09T04:35:33.440475Z"
    }
   },
   "source": [
    "def constraint_one_exam_type_per_day(assignment: dict) -> bool:\n",
    "    # At max one exam of each type per day\n",
    "    exams_taken = {}  # day: list[exams]\n",
    "    for day in days:\n",
    "        exams_taken[day] = []\n",
    "    for var in assignment:\n",
    "        if assignment[var] != 'None':\n",
    "            if assignment[var] in exams_taken[var[1]]:\n",
    "                return False\n",
    "            exams_taken[var[1]].append(assignment[var])\n",
    "    return True"
   ],
   "outputs": [],
   "execution_count": 656
  },
  {
   "metadata": {
    "ExecuteTime": {
     "end_time": "2024-04-09T04:35:33.458944Z",
     "start_time": "2024-04-09T04:35:33.453932Z"
    }
   },
   "cell_type": "code",
   "source": [
    "def print_result(result: dict):\n",
    "    # Sort by day\n",
    "    sorted_result = sorted(result.items(), key=lambda x: x[0][1])\n",
    "    for student_day, exam in sorted_result:\n",
    "        if exam == 'None':\n",
    "            continue\n",
    "        student, day = student_day\n",
    "        print(f'{day}:\\t\\t{student} - {exam}')"
   ],
   "outputs": [],
   "execution_count": 657
  },
  {
   "cell_type": "markdown",
   "metadata": {},
   "source": [
    "## Backtracking Search "
   ]
  },
  {
   "metadata": {
    "ExecuteTime": {
     "end_time": "2024-04-09T04:35:33.476685Z",
     "start_time": "2024-04-09T04:35:33.471491Z"
    }
   },
   "cell_type": "code",
   "source": [
    "def backtracking_search(domains):\n",
    "    def recursive_backtracking(assignment):\n",
    "        if len(assignment) == len(domains):\n",
    "            return assignment\n",
    "\n",
    "        unassigned = [v for v in domains.keys() if v not in assignment]\n",
    "        first = unassigned[0]\n",
    "        for value in domains[first]:\n",
    "            local_assignment = assignment.copy()\n",
    "            local_assignment[first] = value\n",
    "            if constraint_one_exam_type_per_day(local_assignment):\n",
    "                result = recursive_backtracking(local_assignment)\n",
    "                if result is not None:\n",
    "                    # If the result contains all the exams\n",
    "                    if constraint_all_exams_taken(result):\n",
    "                        return result\n",
    "        return None\n",
    "\n",
    "    return recursive_backtracking({})"
   ],
   "outputs": [],
   "execution_count": 658
  },
  {
   "metadata": {
    "ExecuteTime": {
     "end_time": "2024-04-09T04:35:38.376492Z",
     "start_time": "2024-04-09T04:35:33.500006Z"
    }
   },
   "cell_type": "code",
   "source": [
    "with measure_time:\n",
    "    results['backtracking']['solution'] = backtracking_search(domains)\n",
    "    \n",
    "results['backtracking']['time'] = measure_time.get_time()"
   ],
   "outputs": [
    {
     "name": "stdout",
     "output_type": "stream",
     "text": [
      "Time elapsed: 4.871844291687012 seconds\n"
     ]
    }
   ],
   "execution_count": 659
  },
  {
   "metadata": {
    "ExecuteTime": {
     "end_time": "2024-04-09T04:35:38.382212Z",
     "start_time": "2024-04-09T04:35:38.377499Z"
    }
   },
   "cell_type": "code",
   "source": [
    "print_result(results['backtracking']['solution'])\n",
    "print(f\"Time elapsed: {results['backtracking']['time']} seconds\")"
   ],
   "outputs": [
    {
     "name": "stdout",
     "output_type": "stream",
     "text": [
      "Monday:\t\tFulanito - Chemistry\n",
      "Tuesday:\t\tSara - Geography\n",
      "Tuesday:\t\tFulanito - History\n",
      "Wednesday:\t\tFrancisco - Biology\n",
      "Wednesday:\t\tSara - Physics\n",
      "Wednesday:\t\tRicardo - Literature\n",
      "Wednesday:\t\tFulanito - Math\n",
      "Time elapsed: 4.871844291687012 seconds\n"
     ]
    }
   ],
   "execution_count": 660
  },
  {
   "cell_type": "markdown",
   "metadata": {},
   "source": [
    "## Beam Search"
   ]
  },
  {
   "cell_type": "markdown",
   "metadata": {},
   "source": [
    "## Local Search"
   ]
  },
  {
   "metadata": {},
   "cell_type": "markdown",
   "source": ""
  },
  {
   "cell_type": "markdown",
   "metadata": {},
   "source": [
    "# Conclusiones\n",
    "De cada uno de los algoritmos implementados, tome el tiempo que le toma encontrar una solución, y compare no\n",
    "solo el tiempo, sino también la solución encontrada de cada uno. "
   ]
  },
  {
   "metadata": {},
   "cell_type": "markdown",
   "source": "## Tiempos"
  },
  {
   "metadata": {
    "ExecuteTime": {
     "end_time": "2024-04-09T04:35:38.389060Z",
     "start_time": "2024-04-09T04:35:38.382724Z"
    }
   },
   "cell_type": "code",
   "source": "results",
   "outputs": [
    {
     "data": {
      "text/plain": [
       "{'backtracking': {'time': 4.871844291687012,\n",
       "  'solution': {(Francisco, 'Monday'): 'None',\n",
       "   (Francisco, 'Tuesday'): 'None',\n",
       "   (Francisco, 'Wednesday'): 'Biology',\n",
       "   (Sara, 'Monday'): 'None',\n",
       "   (Sara, 'Tuesday'): 'Geography',\n",
       "   (Sara, 'Wednesday'): 'Physics',\n",
       "   (Ricardo, 'Monday'): 'None',\n",
       "   (Ricardo, 'Tuesday'): 'None',\n",
       "   (Ricardo, 'Wednesday'): 'Literature',\n",
       "   (Fulanito, 'Monday'): 'Chemistry',\n",
       "   (Fulanito, 'Tuesday'): 'History',\n",
       "   (Fulanito, 'Wednesday'): 'Math'}},\n",
       " 'beam_search': {'time': None, 'solution': None},\n",
       " 'local_search': {'time': None, 'solution': None}}"
      ]
     },
     "execution_count": 661,
     "metadata": {},
     "output_type": "execute_result"
    }
   ],
   "execution_count": 661
  },
  {
   "metadata": {
    "ExecuteTime": {
     "end_time": "2024-04-09T04:36:42.356298Z",
     "start_time": "2024-04-09T04:36:42.351964Z"
    }
   },
   "cell_type": "code",
   "source": [
    "for key in results:\n",
    "    if results[key]['solution'] is None:\n",
    "        print(f'{key}: No solution found')\n",
    "        continue\n",
    "    print(f'{key}: {results[key][\"time\"]} seconds', end='\\n\\n')\n",
    "    print_result(results[key]['solution'])\n",
    "    print(\"=====================================\")"
   ],
   "outputs": [
    {
     "name": "stdout",
     "output_type": "stream",
     "text": [
      "backtracking: 4.871844291687012 seconds\n",
      "\n",
      "Monday:\t\tFulanito - Chemistry\n",
      "Tuesday:\t\tSara - Geography\n",
      "Tuesday:\t\tFulanito - History\n",
      "Wednesday:\t\tFrancisco - Biology\n",
      "Wednesday:\t\tSara - Physics\n",
      "Wednesday:\t\tRicardo - Literature\n",
      "Wednesday:\t\tFulanito - Math\n",
      "=====================================\n",
      "beam_search: No solution found\n",
      "local_search: No solution found\n"
     ]
    }
   ],
   "execution_count": 666
  }
 ],
 "metadata": {
  "kernelspec": {
   "display_name": "Python 3 (ipykernel)",
   "language": "python",
   "name": "python3"
  },
  "language_info": {
   "name": "python",
   "version": "3.9.13"
  }
 },
 "nbformat": 4,
 "nbformat_minor": 2
}
