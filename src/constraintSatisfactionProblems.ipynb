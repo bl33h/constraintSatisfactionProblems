{
 "cells": [
  {
   "cell_type": "markdown",
   "metadata": {},
   "source": [
    "# Problemas de Satisfacción de Restricciones\n",
    "- Ricardo Méndez 21289\n",
    "- Sara Echeverría 21371\n",
    "- Francisco Castillo 21562\n",
    "- Repositorio de Github: https://github.com/bl33h/constraintSatisfactionProblems"
   ]
  },
  {
   "cell_type": "markdown",
   "metadata": {},
   "source": [
    "# Task 1 - Teoría"
   ]
  },
  {
   "cell_type": "markdown",
   "metadata": {},
   "source": [
    "## Algoritmo AC-3 y su relación con el algoritmo de backtracking search\n",
    "El algoritmo AC-3 optimiza la resolución de problemas de satisfacción de restricciones (CSP) eliminando previamente valores que no pueden satisfacer las restricciones entre variables, reduciendo así el espacio de búsqueda. Por su parte, el algoritmo de backtracking explora este espacio simplificado para encontrar soluciones, retrocediendo cuando una ruta no conduce a una solución válida. Su relación radica en la combinación de estos, pues dan como resultado una estrategia eficaz en la cual AC-3 reduce el espacio de posibilidades y el algoritmo de backtracking navega por este espacio optimizado en busca de la solución (Gao, 2024).\n"
   ]
  },
  {
   "cell_type": "markdown",
   "metadata": {},
   "source": [
    "## Arc Consistency\n",
    "El término de ‘Arc Consistency’ describe un método eficaz para abordar problemas de satisfacción de restricciones, mediante el cual se eliminan las opciones inviables que no se ajustan a las restricciones establecidas (Brown, 2010)."
   ]
  },
  {
   "cell_type": "markdown",
   "metadata": {},
   "source": [
    "## Referencias\n",
    "- Brown. (2010). CSPs: Arc Consistency. The University of British Columbia. https://www.cs.ubc.ca/~kevinlb/teaching/cs322%20-%202009-10/Lectures/CSP3.pdf\n",
    "- Gao. (2024). Constraint Satisfaction Problems: Backtracking Search and Arc Consistency. University of Waterloo. https://cs.uwaterloo.ca/~a23gao/cs486686_s19/slides/lec05_csp_arc_consistency_backtracking_search_nosol.pdf"
   ]
  },
  {
   "cell_type": "markdown",
   "metadata": {},
   "source": [
    "# Task 2\n",
    "\n",
    "## Restricciones\n",
    "- 4 estudiantes y 7 exámenes diferentes\n",
    "- Todos los exámenes se realizan en tres días\n",
    "- Ningún estudiante puede tener más de un exámen por día.\n",
    "- Los estudiantes que toman el mismo curso no pueden tener exámenes programados para el mismo día"
   ]
  },
  {
   "cell_type": "code",
   "execution_count": 1,
   "metadata": {
    "ExecuteTime": {
     "end_time": "2024-04-09T04:35:33.215259Z",
     "start_time": "2024-04-09T04:35:33.209853Z"
    }
   },
   "outputs": [],
   "source": [
    "import time\n",
    "import random\n",
    "\n",
    "random.seed(123)"
   ]
  },
  {
   "cell_type": "code",
   "execution_count": 2,
   "metadata": {
    "ExecuteTime": {
     "end_time": "2024-04-09T04:35:33.311741Z",
     "start_time": "2024-04-09T04:35:33.306830Z"
    }
   },
   "outputs": [],
   "source": [
    "class MeasureTime:\n",
    "    def __init__(self, ):\n",
    "        self.start = 0\n",
    "        self.end = 0\n",
    "\n",
    "    def __enter__(self):\n",
    "        self.start = time.time()\n",
    "        return self\n",
    "\n",
    "    def __exit__(self, exc_type, exc_val, exc_tb):\n",
    "        self.end = time.time()\n",
    "        print(f'Time elapsed: {self.end - self.start} seconds')\n",
    "        \n",
    "    def get_time(self):\n",
    "        return self.end - self.start"
   ]
  },
  {
   "cell_type": "code",
   "execution_count": 3,
   "metadata": {
    "ExecuteTime": {
     "end_time": "2024-04-09T04:35:33.316448Z",
     "start_time": "2024-04-09T04:35:33.313244Z"
    }
   },
   "outputs": [],
   "source": [
    "measure_time = MeasureTime()"
   ]
  },
  {
   "cell_type": "code",
   "execution_count": 4,
   "metadata": {
    "ExecuteTime": {
     "end_time": "2024-04-09T04:35:33.320921Z",
     "start_time": "2024-04-09T04:35:33.317477Z"
    }
   },
   "outputs": [],
   "source": [
    "results = {\n",
    "    'backtracking': {\n",
    "        'time': None,\n",
    "        'solution': None\n",
    "    },\n",
    "    'beam_search': {\n",
    "        'time': None,\n",
    "        'solution': None\n",
    "    },\n",
    "    'local_search': {\n",
    "        'time': None,\n",
    "        'solution': None\n",
    "    }\n",
    "}"
   ]
  },
  {
   "cell_type": "markdown",
   "metadata": {},
   "source": [
    "## Definición de Valores"
   ]
  },
  {
   "cell_type": "code",
   "execution_count": 5,
   "metadata": {
    "ExecuteTime": {
     "end_time": "2024-04-09T04:35:33.326537Z",
     "start_time": "2024-04-09T04:35:33.322430Z"
    }
   },
   "outputs": [],
   "source": [
    "exams = ['Math', 'Physics', 'Chemistry', 'History', 'Biology', 'Geography', 'Literature']\n",
    "days = ['Monday', 'Tuesday', 'Wednesday']\n",
    "students_names = ['Francisco', 'Sara', 'Ricardo', 'Fulanito']"
   ]
  },
  {
   "cell_type": "code",
   "execution_count": 6,
   "metadata": {
    "ExecuteTime": {
     "end_time": "2024-04-09T04:35:33.342669Z",
     "start_time": "2024-04-09T04:35:33.334088Z"
    }
   },
   "outputs": [],
   "source": [
    "class Student:\n",
    "    def __init__(self, name):\n",
    "        self.name = name\n",
    "        self.exams = {'None'}\n",
    "\n",
    "    def add_exam(self, exam):\n",
    "        self.exams.add(exam)\n",
    "\n",
    "    def __str__(self):\n",
    "        return self.name\n",
    "\n",
    "    def __repr__(self):\n",
    "        return self.name\n",
    "\n",
    "    def __eq__(self, other):\n",
    "        return self.name == other.name\n",
    "\n",
    "    def __hash__(self):\n",
    "        return hash(self.name)"
   ]
  },
  {
   "cell_type": "markdown",
   "metadata": {},
   "source": [
    "### Creación de estudiantes y asignación de exámenes (para cumplir con las restricciones)"
   ]
  },
  {
   "cell_type": "code",
   "execution_count": 7,
   "metadata": {
    "ExecuteTime": {
     "end_time": "2024-04-09T04:35:33.386731Z",
     "start_time": "2024-04-09T04:35:33.380905Z"
    }
   },
   "outputs": [
    {
     "name": "stdout",
     "output_type": "stream",
     "text": [
      "Students and their exams:\n",
      "Francisco: ['None', 'Chemistry', 'Biology', 'Math']\n",
      "Sara: ['None', 'Geography', 'Physics', 'Math']\n",
      "Ricardo: ['None', 'History', 'Literature', 'Chemistry']\n",
      "Fulanito: ['Math', 'None', 'History', 'Chemistry']\n"
     ]
    }
   ],
   "source": [
    "# Create Students\n",
    "students = []\n",
    "for name in students_names:\n",
    "    students.append(Student(name))\n",
    "\n",
    "# Assign Exams to Students\n",
    "for i in range(len(exams)):\n",
    "    students[i % len(students)].add_exam(exams[i])\n",
    "\n",
    "# Assign Exams until each student has 3 different exams\n",
    "for student in students:\n",
    "    while len(student.exams) < 4:\n",
    "        additional_exam = random.choice(exams)\n",
    "        student.add_exam(additional_exam)\n",
    "\n",
    "# Print students and their exams\n",
    "print('Students and their exams:')\n",
    "for student in students:\n",
    "    print(f'{student}: {[exam for exam in student.exams]}')"
   ]
  },
  {
   "cell_type": "markdown",
   "metadata": {},
   "source": [
    "### Definición de Variables, Dominios y Restricciones"
   ]
  },
  {
   "cell_type": "code",
   "execution_count": 8,
   "metadata": {
    "ExecuteTime": {
     "end_time": "2024-04-09T04:35:33.417012Z",
     "start_time": "2024-04-09T04:35:33.409922Z"
    }
   },
   "outputs": [
    {
     "name": "stdout",
     "output_type": "stream",
     "text": [
      "Domains:\n"
     ]
    },
    {
     "data": {
      "text/plain": [
       "{(Francisco, 'Monday'): ['None', 'Chemistry', 'Biology', 'Math'],\n",
       " (Francisco, 'Tuesday'): ['None', 'Chemistry', 'Biology', 'Math'],\n",
       " (Francisco, 'Wednesday'): ['None', 'Chemistry', 'Biology', 'Math'],\n",
       " (Sara, 'Monday'): ['None', 'Geography', 'Physics', 'Math'],\n",
       " (Sara, 'Tuesday'): ['None', 'Geography', 'Physics', 'Math'],\n",
       " (Sara, 'Wednesday'): ['None', 'Geography', 'Physics', 'Math'],\n",
       " (Ricardo, 'Monday'): ['None', 'History', 'Literature', 'Chemistry'],\n",
       " (Ricardo, 'Tuesday'): ['None', 'History', 'Literature', 'Chemistry'],\n",
       " (Ricardo, 'Wednesday'): ['None', 'History', 'Literature', 'Chemistry'],\n",
       " (Fulanito, 'Monday'): ['Math', 'None', 'History', 'Chemistry'],\n",
       " (Fulanito, 'Tuesday'): ['Math', 'None', 'History', 'Chemistry'],\n",
       " (Fulanito, 'Wednesday'): ['Math', 'None', 'History', 'Chemistry']}"
      ]
     },
     "execution_count": 8,
     "metadata": {},
     "output_type": "execute_result"
    }
   ],
   "source": [
    "variables = []\n",
    "for student in students:\n",
    "    for day in days:\n",
    "        variables.append((student, day))\n",
    "\n",
    "domains = {}\n",
    "for var in variables:\n",
    "    domains[var] = [exam for exam in var[0].exams]\n",
    "    \n",
    "print('Domains:')\n",
    "domains"
   ]
  },
  {
   "cell_type": "code",
   "execution_count": 9,
   "metadata": {
    "ExecuteTime": {
     "end_time": "2024-04-09T04:35:33.437235Z",
     "start_time": "2024-04-09T04:35:33.432678Z"
    }
   },
   "outputs": [],
   "source": [
    "# Constraints\n",
    "# NOTE THAT, BY THE NATURE OF THE ASSIGNMENT, THE STUDENT CAN'T TAKE MORE THAN ONE EXAM PER DAY\n",
    "def constraint_all_exams_taken(assignment: dict) -> bool:\n",
    "    # All values of the exams list must be in the values of the dict\n",
    "    exams_taken = []\n",
    "    for var in assignment:\n",
    "        if assignment[var] != 'None':\n",
    "            exams_taken.append(assignment[var])\n",
    "\n",
    "    return set(exams) == set(exams_taken)  # If all the exams in the list are part of the assignment, return True"
   ]
  },
  {
   "cell_type": "code",
   "execution_count": 10,
   "metadata": {
    "ExecuteTime": {
     "end_time": "2024-04-09T04:35:33.444137Z",
     "start_time": "2024-04-09T04:35:33.440475Z"
    }
   },
   "outputs": [],
   "source": [
    "def constraint_one_exam_type_per_day(assignment: dict) -> bool:\n",
    "    # At max one exam of each type per day\n",
    "    exams_taken = {}  # day: list[exams]\n",
    "    for day in days:\n",
    "        exams_taken[day] = []\n",
    "    for var in assignment:\n",
    "        if assignment[var] != 'None':\n",
    "            if assignment[var] in exams_taken[var[1]]:\n",
    "                return False\n",
    "            exams_taken[var[1]].append(assignment[var])\n",
    "    return True"
   ]
  },
  {
   "cell_type": "code",
   "execution_count": 11,
   "metadata": {
    "ExecuteTime": {
     "end_time": "2024-04-09T04:35:33.458944Z",
     "start_time": "2024-04-09T04:35:33.453932Z"
    }
   },
   "outputs": [],
   "source": [
    "def print_result(result: dict):\n",
    "    # Sort by day\n",
    "    sorted_result = sorted(result.items(), key=lambda x: x[0][1])\n",
    "    for student_day, exam in sorted_result:\n",
    "        if exam == 'None':\n",
    "            continue\n",
    "        student, day = student_day\n",
    "        print(f'{day}:\\t\\t{student} - {exam}')"
   ]
  },
  {
   "cell_type": "markdown",
   "metadata": {},
   "source": [
    "## Backtracking Search "
   ]
  },
  {
   "cell_type": "code",
   "execution_count": 90,
   "metadata": {
    "ExecuteTime": {
     "end_time": "2024-04-09T04:35:33.476685Z",
     "start_time": "2024-04-09T04:35:33.471491Z"
    }
   },
   "outputs": [],
   "source": [
    "def backtracking_search(domains):\n",
    "    def recursive_backtracking(assignment):\n",
    "        if len(assignment) == len(domains):\n",
    "            return assignment\n",
    "\n",
    "        unassigned = [v for v in domains.keys() if v not in assignment]\n",
    "        first = unassigned[0]\n",
    "        for value in domains[first]:\n",
    "            local_assignment = assignment.copy()\n",
    "            local_assignment[first] = value\n",
    "            if constraint_one_exam_type_per_day(local_assignment):\n",
    "                result = recursive_backtracking(local_assignment)\n",
    "                if result is not None:\n",
    "                    # If the result contains all the exams\n",
    "                    if constraint_all_exams_taken(result):\n",
    "                        return result\n",
    "        return None\n",
    "\n",
    "    return recursive_backtracking({})"
   ]
  },
  {
   "cell_type": "code",
   "execution_count": 91,
   "metadata": {
    "ExecuteTime": {
     "end_time": "2024-04-09T04:35:38.376492Z",
     "start_time": "2024-04-09T04:35:33.500006Z"
    }
   },
   "outputs": [
    {
     "name": "stdout",
     "output_type": "stream",
     "text": [
      "Time elapsed: 3.1568708419799805 seconds\n"
     ]
    }
   ],
   "source": [
    "with measure_time:\n",
    "    results['backtracking']['solution'] = backtracking_search(domains)\n",
    "    \n",
    "results['backtracking']['time'] = measure_time.get_time()"
   ]
  },
  {
   "cell_type": "code",
   "execution_count": 92,
   "metadata": {
    "ExecuteTime": {
     "end_time": "2024-04-09T04:35:38.382212Z",
     "start_time": "2024-04-09T04:35:38.377499Z"
    }
   },
   "outputs": [
    {
     "name": "stdout",
     "output_type": "stream",
     "text": [
      "Monday:\t\tFulanito - Math\n",
      "Tuesday:\t\tSara - Geography\n",
      "Tuesday:\t\tFulanito - History\n",
      "Wednesday:\t\tFrancisco - Biology\n",
      "Wednesday:\t\tSara - Physics\n",
      "Wednesday:\t\tRicardo - Literature\n",
      "Wednesday:\t\tFulanito - Chemistry\n",
      "Time elapsed: 3.1568708419799805 seconds\n"
     ]
    }
   ],
   "source": [
    "print_result(results['backtracking']['solution'])\n",
    "print(f\"Time elapsed: {results['backtracking']['time']} seconds\")"
   ]
  },
  {
   "cell_type": "markdown",
   "metadata": {},
   "source": [
    "## Beam Search"
   ]
  },
  {
   "cell_type": "code",
   "execution_count": 86,
   "metadata": {},
   "outputs": [],
   "source": [
    "import random\n",
    "\n",
    "def beam_search(domains, beam_width):\n",
    "    def evaluate_assignment(assignment):\n",
    "        if constraint_all_exams_taken(assignment):\n",
    "            return len(set(assignment.values()))\n",
    "        return 0\n",
    "\n",
    "    def generate_neighbors(assignment):\n",
    "        neighbors = []\n",
    "        for var in domains.keys():\n",
    "            for value in domains[var]:\n",
    "                neighbor = assignment.copy()\n",
    "                neighbor[var] = value\n",
    "                if constraint_one_exam_type_per_day(neighbor):\n",
    "                    neighbors.append(neighbor)\n",
    "        return neighbors\n",
    "\n",
    "    def select_best_neighbors(neighbors, beam_width):\n",
    "        neighbors.sort(key=lambda x: evaluate_assignment(x), reverse=True)\n",
    "        return neighbors[:beam_width]\n",
    "\n",
    "    current_assignment = {}\n",
    "    for var in domains.keys():\n",
    "        choice = random.choice(domains[var])\n",
    "        student_assigned = False\n",
    "        for assignment in current_assignment:\n",
    "            if current_assignment[assignment] == choice:\n",
    "                student_assigned = True\n",
    "                break\n",
    "        if not student_assigned:\n",
    "            current_assignment[var] = random.choice(domains[var])\n",
    "        else:\n",
    "            current_assignment[var] = 'None'\n",
    "\n",
    "    while not constraint_all_exams_taken(current_assignment):\n",
    "        neighbors = generate_neighbors(current_assignment)\n",
    "        current_assignment = random.choice(select_best_neighbors(neighbors, beam_width))\n",
    "\n",
    "    return current_assignment"
   ]
  },
  {
   "cell_type": "code",
   "execution_count": 87,
   "metadata": {},
   "outputs": [
    {
     "name": "stdout",
     "output_type": "stream",
     "text": [
      "Monday:\t\tFrancisco - Biology\n",
      "Monday:\t\tSara - Physics\n",
      "Monday:\t\tRicardo - Chemistry\n",
      "Tuesday:\t\tFrancisco - Chemistry\n",
      "Tuesday:\t\tSara - Geography\n",
      "Tuesday:\t\tRicardo - History\n",
      "Tuesday:\t\tFulanito - Math\n",
      "Wednesday:\t\tRicardo - Literature\n",
      "Wednesday:\t\tFulanito - Math\n",
      "Time elapsed: 0.025861263275146484 seconds\n"
     ]
    }
   ],
   "source": [
    "with measure_time:\n",
    "    beam_width = 12\n",
    "    result = beam_search(domains, beam_width)\n",
    "    results['beam_search']['solution'] = result\n",
    "    print_result(result)\n",
    "results['beam_search']['time'] = measure_time.get_time()\n"
   ]
  },
  {
   "cell_type": "markdown",
   "metadata": {},
   "source": [
    "## Local Search"
   ]
  },
  {
   "cell_type": "code",
   "execution_count": 67,
   "metadata": {},
   "outputs": [],
   "source": [
    "def local_search(domains, max_iterations=1000):\n",
    "    # assign a random exam from their domain to each student for each day\n",
    "    assignment = {var: random.choice(domains[var]) for var in domains}\n",
    "    \n",
    "    for _ in range(max_iterations):\n",
    "        # check if current assignment satisfies all constraints\n",
    "        if constraint_all_exams_taken(assignment) and constraint_one_exam_type_per_day(assignment):\n",
    "            return assignment\n",
    "        \n",
    "        # select a random variable to try and improve\n",
    "        var_to_improve = random.choice(list(assignment.keys()))\n",
    "        current_exam = assignment[var_to_improve]\n",
    "        \n",
    "        # try to find a better value for the selected variable\n",
    "        for potential_exam in domains[var_to_improve]:\n",
    "            if potential_exam == current_exam:\n",
    "                continue\n",
    "            \n",
    "            # create a new assignment with the potential change\n",
    "            new_assignment = assignment.copy()\n",
    "            new_assignment[var_to_improve] = potential_exam\n",
    "            \n",
    "            # accept the new assignment if it improves or maintains the constraint satisfaction\n",
    "            if constraint_one_exam_type_per_day(new_assignment):\n",
    "                assignment = new_assignment\n",
    "                break  # stop looking for improvements for this iteration\n",
    "        \n",
    "    return None"
   ]
  },
  {
   "cell_type": "code",
   "execution_count": 82,
   "metadata": {},
   "outputs": [
    {
     "name": "stdout",
     "output_type": "stream",
     "text": [
      "Time elapsed: 0.0 seconds\n"
     ]
    }
   ],
   "source": [
    "with measure_time:\n",
    "    results['local_search']['solution'] = local_search(domains)"
   ]
  },
  {
   "cell_type": "code",
   "execution_count": 84,
   "metadata": {},
   "outputs": [],
   "source": [
    "results['local_search']['time'] = measure_time.get_time()"
   ]
  },
  {
   "cell_type": "code",
   "execution_count": 85,
   "metadata": {},
   "outputs": [
    {
     "name": "stdout",
     "output_type": "stream",
     "text": [
      "Monday:\t\tFrancisco - Biology\n",
      "Monday:\t\tSara - Geography\n",
      "Monday:\t\tRicardo - History\n",
      "Tuesday:\t\tFulanito - Math\n",
      "Wednesday:\t\tFrancisco - Chemistry\n",
      "Wednesday:\t\tSara - Physics\n",
      "Wednesday:\t\tRicardo - Literature\n",
      "Time elapsed: 0.0 seconds\n"
     ]
    }
   ],
   "source": [
    "if results['local_search']['solution']:\n",
    "    print_result(results['local_search']['solution'])\n",
    "else:\n",
    "    print(\"No valid scheduling found.\")\n",
    "\n",
    "print(f\"Time elapsed: {results['local_search']['time']} seconds\")"
   ]
  },
  {
   "cell_type": "markdown",
   "metadata": {},
   "source": [
    "# Conclusiones\n",
    "De cada uno de los algoritmos implementados, tome el tiempo que le toma encontrar una solución, y compare no\n",
    "solo el tiempo, sino también la solución encontrada de cada uno. "
   ]
  },
  {
   "cell_type": "markdown",
   "metadata": {},
   "source": [
    "## Tiempos"
   ]
  },
  {
   "cell_type": "code",
   "execution_count": 88,
   "metadata": {
    "ExecuteTime": {
     "end_time": "2024-04-09T04:35:38.389060Z",
     "start_time": "2024-04-09T04:35:38.382724Z"
    }
   },
   "outputs": [
    {
     "data": {
      "text/plain": [
       "{'backtracking': {'time': None, 'solution': None},\n",
       " 'beam_search': {'time': 0.025861263275146484,\n",
       "  'solution': {(Francisco, 'Monday'): 'Biology',\n",
       "   (Francisco, 'Tuesday'): 'Chemistry',\n",
       "   (Francisco, 'Wednesday'): 'None',\n",
       "   (Sara, 'Monday'): 'Physics',\n",
       "   (Sara, 'Tuesday'): 'Geography',\n",
       "   (Sara, 'Wednesday'): 'None',\n",
       "   (Ricardo, 'Monday'): 'Chemistry',\n",
       "   (Ricardo, 'Tuesday'): 'History',\n",
       "   (Ricardo, 'Wednesday'): 'Literature',\n",
       "   (Fulanito, 'Monday'): 'None',\n",
       "   (Fulanito, 'Tuesday'): 'Math',\n",
       "   (Fulanito, 'Wednesday'): 'Math'}},\n",
       " 'local_search': {'time': 0.0,\n",
       "  'solution': {(Francisco, 'Monday'): 'Biology',\n",
       "   (Francisco, 'Tuesday'): 'None',\n",
       "   (Francisco, 'Wednesday'): 'Chemistry',\n",
       "   (Sara, 'Monday'): 'Geography',\n",
       "   (Sara, 'Tuesday'): 'None',\n",
       "   (Sara, 'Wednesday'): 'Physics',\n",
       "   (Ricardo, 'Monday'): 'History',\n",
       "   (Ricardo, 'Tuesday'): 'None',\n",
       "   (Ricardo, 'Wednesday'): 'Literature',\n",
       "   (Fulanito, 'Monday'): 'None',\n",
       "   (Fulanito, 'Tuesday'): 'Math',\n",
       "   (Fulanito, 'Wednesday'): 'None'}}}"
      ]
     },
     "execution_count": 88,
     "metadata": {},
     "output_type": "execute_result"
    }
   ],
   "source": [
    "results"
   ]
  },
  {
   "cell_type": "code",
   "execution_count": 93,
   "metadata": {
    "ExecuteTime": {
     "end_time": "2024-04-09T04:36:42.356298Z",
     "start_time": "2024-04-09T04:36:42.351964Z"
    }
   },
   "outputs": [
    {
     "name": "stdout",
     "output_type": "stream",
     "text": [
      "backtracking: 3.1568708419799805 seconds\n",
      "\n",
      "Monday:\t\tFulanito - Math\n",
      "Tuesday:\t\tSara - Geography\n",
      "Tuesday:\t\tFulanito - History\n",
      "Wednesday:\t\tFrancisco - Biology\n",
      "Wednesday:\t\tSara - Physics\n",
      "Wednesday:\t\tRicardo - Literature\n",
      "Wednesday:\t\tFulanito - Chemistry\n",
      "=====================================\n",
      "beam_search: 0.025861263275146484 seconds\n",
      "\n",
      "Monday:\t\tFrancisco - Biology\n",
      "Monday:\t\tSara - Physics\n",
      "Monday:\t\tRicardo - Chemistry\n",
      "Tuesday:\t\tFrancisco - Chemistry\n",
      "Tuesday:\t\tSara - Geography\n",
      "Tuesday:\t\tRicardo - History\n",
      "Tuesday:\t\tFulanito - Math\n",
      "Wednesday:\t\tRicardo - Literature\n",
      "Wednesday:\t\tFulanito - Math\n",
      "=====================================\n",
      "local_search: 0.0 seconds\n",
      "\n",
      "Monday:\t\tFrancisco - Biology\n",
      "Monday:\t\tSara - Geography\n",
      "Monday:\t\tRicardo - History\n",
      "Tuesday:\t\tFulanito - Math\n",
      "Wednesday:\t\tFrancisco - Chemistry\n",
      "Wednesday:\t\tSara - Physics\n",
      "Wednesday:\t\tRicardo - Literature\n",
      "=====================================\n"
     ]
    }
   ],
   "source": [
    "for key in results:\n",
    "    if results[key]['solution'] is None:\n",
    "        print(f'{key}: No solution found')\n",
    "        continue\n",
    "    print(f'{key}: {results[key][\"time\"]} seconds', end='\\n\\n')\n",
    "    print_result(results[key]['solution'])\n",
    "    print(\"=====================================\")"
   ]
  },
  {
   "cell_type": "markdown",
   "metadata": {},
   "source": [
    "#### Como se puede ver en los resultados de las dos celdas anteriores, backtracking es el algoritmo al que más tiempo le tomó encontrar una asignación, mientras que local search fue el más rápido. Cabe recalcar que tanto local search como beam search son algoritmos que se pueden considerar high risk - high reward, pues dependen mucho del estado incial que se plantee. Un estado inicial ineficiente puede llevar a tiempos de espera muy altos o directamente a una respuesta inválida."
   ]
  }
 ],
 "metadata": {
  "kernelspec": {
   "display_name": "myenv",
   "language": "python",
   "name": "myenv"
  },
  "language_info": {
   "codemirror_mode": {
    "name": "ipython",
    "version": 3
   },
   "file_extension": ".py",
   "mimetype": "text/x-python",
   "name": "python",
   "nbconvert_exporter": "python",
   "pygments_lexer": "ipython3",
   "version": "3.9.13"
  }
 },
 "nbformat": 4,
 "nbformat_minor": 2
}
