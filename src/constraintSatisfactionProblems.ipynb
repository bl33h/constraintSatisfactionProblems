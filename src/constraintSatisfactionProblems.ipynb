{
 "cells": [
  {
   "cell_type": "markdown",
   "metadata": {},
   "source": [
    "# Problemas de Satisfacción de Restricciones\n",
    "- Ricardo Méndez 21289\n",
    "- Sara Echeverría 21371\n",
    "- Francisco Castillo 21562\n",
    "- Repositorio de Github: https://github.com/bl33h/constraintSatisfactionProblems"
   ]
  },
  {
   "cell_type": "markdown",
   "metadata": {},
   "source": "# Task 1 - Teoría"
  },
  {
   "metadata": {},
   "cell_type": "markdown",
   "source": [
    "## Algoritmo AC-3 y su relación con el algoritmo de backtracking search\n",
    "El algoritmo AC-3 optimiza la resolución de problemas de satisfacción de restricciones (CSP) eliminando previamente valores que no pueden satisfacer las restricciones entre variables, reduciendo así el espacio de búsqueda. Por su parte, el algoritmo de backtracking explora este espacio simplificado para encontrar soluciones, retrocediendo cuando una ruta no conduce a una solución válida. Su relación radica en la combinación de estos, pues dan como resultado una estrategia eficaz en la cual AC-3 reduce el espacio de posibilidades y el algoritmo de backtracking navega por este espacio optimizado en busca de la solución (Gao, 2024).\n"
   ]
  },
  {
   "metadata": {},
   "cell_type": "markdown",
   "source": [
    "## Arc Consistency\n",
    "El término de ‘Arc Consistency’ describe un método eficaz para abordar problemas de satisfacción de restricciones, mediante el cual se eliminan las opciones inviables que no se ajustan a las restricciones establecidas (Brown, 2010)."
   ]
  },
  {
   "cell_type": "markdown",
   "metadata": {},
   "source": [
    "## Referencias\n",
    "- Brown. (2010). CSPs: Arc Consistency. The University of British Columbia. https://www.cs.ubc.ca/~kevinlb/teaching/cs322%20-%202009-10/Lectures/CSP3.pdf\n",
    "- Gao. (2024). Constraint Satisfaction Problems: Backtracking Search and Arc Consistency. University of Waterloo. https://cs.uwaterloo.ca/~a23gao/cs486686_s19/slides/lec05_csp_arc_consistency_backtracking_search_nosol.pdf"
   ]
  },
  {
   "cell_type": "markdown",
   "metadata": {},
   "source": [
    "# Task 2\n",
    "\n",
    "## Restricciones\n",
    "- 4 estudiantes y 7 exámenes diferentes\n",
    "- Todos los exámenes se realizan en tres días\n",
    "- Ningún estudiante puede tener más de un exámen por día.\n",
    "- Los estudiantes que toman el mismo curso no pueden tener exámenes programados para el mismo día"
   ]
  },
  {
   "cell_type": "code",
   "metadata": {
    "ExecuteTime": {
     "end_time": "2024-04-09T04:20:18.433564Z",
     "start_time": "2024-04-09T04:20:18.429606Z"
    }
   },
   "source": [
    "import time\n",
    "import random\n",
    "\n",
    "random.seed(123)"
   ],
   "outputs": [],
   "execution_count": 614
  },
  {
   "metadata": {
    "ExecuteTime": {
     "end_time": "2024-04-09T04:20:18.488111Z",
     "start_time": "2024-04-09T04:20:18.483569Z"
    }
   },
   "cell_type": "code",
   "source": [
    "class MeasureTime:\n",
    "    def __init__(self, ):\n",
    "        self.start = 0\n",
    "        self.end = 0\n",
    "\n",
    "    def __enter__(self):\n",
    "        self.start = time.time()\n",
    "        return self\n",
    "\n",
    "    def __exit__(self, exc_type, exc_val, exc_tb):\n",
    "        self.end = time.time()\n",
    "        print(f'Time elapsed: {self.end - self.start} seconds')\n",
    "        \n",
    "    def get_time(self):\n",
    "        return self.end - self.start"
   ],
   "outputs": [],
   "execution_count": 615
  },
  {
   "metadata": {
    "ExecuteTime": {
     "end_time": "2024-04-09T04:20:18.492846Z",
     "start_time": "2024-04-09T04:20:18.489114Z"
    }
   },
   "cell_type": "code",
   "source": "measure_time = MeasureTime()",
   "outputs": [],
   "execution_count": 616
  },
  {
   "metadata": {
    "ExecuteTime": {
     "end_time": "2024-04-09T04:20:18.501883Z",
     "start_time": "2024-04-09T04:20:18.498840Z"
    }
   },
   "cell_type": "code",
   "source": [
    "times = {\n",
    "    'backtracking': None,\n",
    "    'beam_search': None,\n",
    "    'local_search': None\n",
    "}"
   ],
   "outputs": [],
   "execution_count": 617
  },
  {
   "metadata": {},
   "cell_type": "markdown",
   "source": "## Definición de Valores"
  },
  {
   "cell_type": "code",
   "metadata": {
    "ExecuteTime": {
     "end_time": "2024-04-09T04:20:18.507194Z",
     "start_time": "2024-04-09T04:20:18.503888Z"
    }
   },
   "source": [
    "exams = ['Math', 'Physics', 'Chemistry', 'History', 'Biology', 'Geography', 'Literature']\n",
    "days = ['Monday', 'Tuesday', 'Wednesday']\n",
    "students_names = ['Francisco', 'Sara', 'Ricardo', 'Fulanito']"
   ],
   "outputs": [],
   "execution_count": 618
  },
  {
   "cell_type": "code",
   "metadata": {
    "ExecuteTime": {
     "end_time": "2024-04-09T04:20:18.517105Z",
     "start_time": "2024-04-09T04:20:18.512698Z"
    }
   },
   "source": [
    "class Student:\n",
    "    def __init__(self, name):\n",
    "        self.name = name\n",
    "        self.exams = {'None'}\n",
    "\n",
    "    def add_exam(self, exam):\n",
    "        self.exams.add(exam)\n",
    "\n",
    "    def __str__(self):\n",
    "        return self.name\n",
    "\n",
    "    def __repr__(self):\n",
    "        return self.name\n",
    "\n",
    "    def __eq__(self, other):\n",
    "        return self.name == other.name\n",
    "\n",
    "    def __hash__(self):\n",
    "        return hash(self.name)"
   ],
   "outputs": [],
   "execution_count": 619
  },
  {
   "metadata": {},
   "cell_type": "markdown",
   "source": "### Creación de estudiantes y asignación de exámenes (para cumplir con las restricciones)"
  },
  {
   "cell_type": "code",
   "metadata": {
    "ExecuteTime": {
     "end_time": "2024-04-09T04:20:18.538290Z",
     "start_time": "2024-04-09T04:20:18.533188Z"
    }
   },
   "source": [
    "# Create Students\n",
    "students = []\n",
    "for name in students_names:\n",
    "    students.append(Student(name))\n",
    "\n",
    "# Assign Exams to Students\n",
    "for i in range(len(exams)):\n",
    "    students[i % len(students)].add_exam(exams[i])\n",
    "\n",
    "# Assign Exams until each student has 3 different exams\n",
    "for student in students:\n",
    "    while len(student.exams) < 4:\n",
    "        additional_exam = random.choice(exams)\n",
    "        student.add_exam(additional_exam)\n",
    "\n",
    "# Print students and their exams\n",
    "print('Students and their exams:')\n",
    "for student in students:\n",
    "    print(f'{student}: {[exam for exam in student.exams]}')"
   ],
   "outputs": [
    {
     "name": "stdout",
     "output_type": "stream",
     "text": [
      "Students and their exams:\n",
      "Francisco: ['None', 'Chemistry', 'Math', 'Biology']\n",
      "Sara: ['None', 'Geography', 'Physics', 'Math']\n",
      "Ricardo: ['None', 'Chemistry', 'History', 'Literature']\n",
      "Fulanito: ['None', 'Chemistry', 'History', 'Math']\n"
     ]
    }
   ],
   "execution_count": 620
  },
  {
   "metadata": {},
   "cell_type": "markdown",
   "source": "### Definición de Variables, Dominios y Restricciones"
  },
  {
   "cell_type": "code",
   "metadata": {
    "ExecuteTime": {
     "end_time": "2024-04-09T04:20:18.546934Z",
     "start_time": "2024-04-09T04:20:18.539322Z"
    }
   },
   "source": [
    "variables = []\n",
    "for student in students:\n",
    "    for day in days:\n",
    "        variables.append((student, day))\n",
    "\n",
    "domains = {}\n",
    "for var in variables:\n",
    "    domains[var] = [exam for exam in var[0].exams]\n",
    "    \n",
    "print('Domains:')\n",
    "domains"
   ],
   "outputs": [
    {
     "name": "stdout",
     "output_type": "stream",
     "text": [
      "Domains:\n"
     ]
    },
    {
     "data": {
      "text/plain": [
       "{(Francisco, 'Monday'): ['None', 'Chemistry', 'Math', 'Biology'],\n",
       " (Francisco, 'Tuesday'): ['None', 'Chemistry', 'Math', 'Biology'],\n",
       " (Francisco, 'Wednesday'): ['None', 'Chemistry', 'Math', 'Biology'],\n",
       " (Sara, 'Monday'): ['None', 'Geography', 'Physics', 'Math'],\n",
       " (Sara, 'Tuesday'): ['None', 'Geography', 'Physics', 'Math'],\n",
       " (Sara, 'Wednesday'): ['None', 'Geography', 'Physics', 'Math'],\n",
       " (Ricardo, 'Monday'): ['None', 'Chemistry', 'History', 'Literature'],\n",
       " (Ricardo, 'Tuesday'): ['None', 'Chemistry', 'History', 'Literature'],\n",
       " (Ricardo, 'Wednesday'): ['None', 'Chemistry', 'History', 'Literature'],\n",
       " (Fulanito, 'Monday'): ['None', 'Chemistry', 'History', 'Math'],\n",
       " (Fulanito, 'Tuesday'): ['None', 'Chemistry', 'History', 'Math'],\n",
       " (Fulanito, 'Wednesday'): ['None', 'Chemistry', 'History', 'Math']}"
      ]
     },
     "execution_count": 621,
     "metadata": {},
     "output_type": "execute_result"
    }
   ],
   "execution_count": 621
  },
  {
   "cell_type": "code",
   "metadata": {
    "ExecuteTime": {
     "end_time": "2024-04-09T04:20:18.568398Z",
     "start_time": "2024-04-09T04:20:18.560044Z"
    }
   },
   "source": [
    "# Constraints\n",
    "# NOTE THAT, BY THE NATURE OF THE ASSIGNMENT, THE STUDENT CAN'T TAKE MORE THAN ONE EXAM PER DAY\n",
    "def constraint_all_exams_taken(assignment: dict) -> bool:\n",
    "    # All values of the exams list must be in the values of the dict\n",
    "    exams_taken = []\n",
    "    for var in assignment:\n",
    "        if assignment[var] != 'None':\n",
    "            exams_taken.append(assignment[var])\n",
    "\n",
    "    return set(exams) == set(exams_taken)  # If all the exams in the list are part of the assignment, return True"
   ],
   "outputs": [],
   "execution_count": 622
  },
  {
   "cell_type": "code",
   "metadata": {
    "ExecuteTime": {
     "end_time": "2024-04-09T04:20:18.604389Z",
     "start_time": "2024-04-09T04:20:18.599713Z"
    }
   },
   "source": [
    "def constraint_one_exam_type_per_day(assignment: dict) -> bool:\n",
    "    # At max one exam of each type per day\n",
    "    exams_taken = {}  # day: list[exams]\n",
    "    for day in days:\n",
    "        exams_taken[day] = []\n",
    "    for var in assignment:\n",
    "        if assignment[var] != 'None':\n",
    "            if assignment[var] in exams_taken[var[1]]:\n",
    "                return False\n",
    "            exams_taken[var[1]].append(assignment[var])\n",
    "    return True"
   ],
   "outputs": [],
   "execution_count": 623
  },
  {
   "metadata": {
    "ExecuteTime": {
     "end_time": "2024-04-09T04:20:18.618920Z",
     "start_time": "2024-04-09T04:20:18.614969Z"
    }
   },
   "cell_type": "code",
   "source": [
    "def print_result(result: dict):\n",
    "    # Sort by day\n",
    "    sorted_result = sorted(result.items(), key=lambda x: x[0][1])\n",
    "    for student_day, exam in sorted_result:\n",
    "        if exam == 'None':\n",
    "            continue\n",
    "        student, day = student_day\n",
    "        print(f'{day}:\\t\\t{student} - {exam}')"
   ],
   "outputs": [],
   "execution_count": 624
  },
  {
   "cell_type": "markdown",
   "metadata": {},
   "source": [
    "## Backtracking Search "
   ]
  },
  {
   "metadata": {
    "ExecuteTime": {
     "end_time": "2024-04-09T04:20:18.625290Z",
     "start_time": "2024-04-09T04:20:18.620017Z"
    }
   },
   "cell_type": "code",
   "source": [
    "def backtracking_search(domains):\n",
    "    def recursive_backtracking(assignment):\n",
    "        if len(assignment) == len(domains):\n",
    "            return assignment\n",
    "\n",
    "        unassigned = [v for v in domains.keys() if v not in assignment]\n",
    "        first = unassigned[0]\n",
    "        for value in domains[first]:\n",
    "            local_assignment = assignment.copy()\n",
    "            local_assignment[first] = value\n",
    "            if constraint_one_exam_type_per_day(local_assignment):\n",
    "                result = recursive_backtracking(local_assignment)\n",
    "                if result is not None:\n",
    "                    # If the result contains all the exams\n",
    "                    if constraint_all_exams_taken(result):\n",
    "                        return result\n",
    "        return None\n",
    "\n",
    "    return recursive_backtracking({})"
   ],
   "outputs": [],
   "execution_count": 625
  },
  {
   "metadata": {
    "ExecuteTime": {
     "end_time": "2024-04-09T04:20:32.673071Z",
     "start_time": "2024-04-09T04:20:18.627293Z"
    }
   },
   "cell_type": "code",
   "source": [
    "result = None\n",
    "backtracking_times = []\n",
    "# First run\n",
    "with measure_time:\n",
    "    result = backtracking_search(domains)\n",
    "backtracking_times.append(measure_time.get_time())\n",
    "\n",
    "# Second run\n",
    "with measure_time:\n",
    "    result = backtracking_search(domains)\n",
    "backtracking_times.append(measure_time.get_time())\n",
    "\n",
    "# Third run\n",
    "with measure_time:\n",
    "    result = backtracking_search(domains)\n",
    "backtracking_times.append(measure_time.get_time())\n",
    "\n",
    "times['backtracking'] = backtracking_times"
   ],
   "outputs": [
    {
     "name": "stdout",
     "output_type": "stream",
     "text": [
      "Time elapsed: 4.638906240463257 seconds\n",
      "Time elapsed: 4.712913751602173 seconds\n",
      "Time elapsed: 4.687774419784546 seconds\n"
     ]
    }
   ],
   "execution_count": 626
  },
  {
   "metadata": {
    "ExecuteTime": {
     "end_time": "2024-04-09T04:20:32.679273Z",
     "start_time": "2024-04-09T04:20:32.674225Z"
    }
   },
   "cell_type": "code",
   "source": [
    "print_result(result)\n",
    "print(f\"Time elapsed: {times['backtracking']} seconds\")"
   ],
   "outputs": [
    {
     "name": "stdout",
     "output_type": "stream",
     "text": [
      "Monday:\t\tFulanito - Chemistry\n",
      "Tuesday:\t\tSara - Geography\n",
      "Tuesday:\t\tFulanito - History\n",
      "Wednesday:\t\tFrancisco - Biology\n",
      "Wednesday:\t\tSara - Physics\n",
      "Wednesday:\t\tRicardo - Literature\n",
      "Wednesday:\t\tFulanito - Math\n",
      "Time elapsed: [4.638906240463257, 4.712913751602173, 4.687774419784546] seconds\n"
     ]
    }
   ],
   "execution_count": 627
  },
  {
   "cell_type": "markdown",
   "metadata": {},
   "source": [
    "## Beam Search"
   ]
  },
  {
   "cell_type": "markdown",
   "metadata": {},
   "source": [
    "## Local Search"
   ]
  },
  {
   "metadata": {},
   "cell_type": "markdown",
   "source": ""
  },
  {
   "cell_type": "markdown",
   "metadata": {},
   "source": [
    "# Conclusiones\n",
    "De cada uno de los algoritmos implementados, tome el tiempo que le toma encontrar una solución, y compare no\n",
    "solo el tiempo, sino también la solución encontrada de cada uno. "
   ]
  },
  {
   "metadata": {},
   "cell_type": "markdown",
   "source": "## Tiempos"
  },
  {
   "metadata": {
    "ExecuteTime": {
     "end_time": "2024-04-09T04:20:32.686622Z",
     "start_time": "2024-04-09T04:20:32.680276Z"
    }
   },
   "cell_type": "code",
   "source": "times",
   "outputs": [
    {
     "data": {
      "text/plain": [
       "{'backtracking': [4.638906240463257, 4.712913751602173, 4.687774419784546],\n",
       " 'beam_search': None,\n",
       " 'local_search': None}"
      ]
     },
     "execution_count": 628,
     "metadata": {},
     "output_type": "execute_result"
    }
   ],
   "execution_count": 628
  },
  {
   "metadata": {
    "ExecuteTime": {
     "end_time": "2024-04-09T04:20:56.483377Z",
     "start_time": "2024-04-09T04:20:56.478854Z"
    }
   },
   "cell_type": "code",
   "source": [
    "for time in times:\n",
    "    if times[time] is not None:\n",
    "        print(f'Average {time} time: {sum(times[time]) / len(times[time])} seconds')"
   ],
   "outputs": [
    {
     "name": "stdout",
     "output_type": "stream",
     "text": [
      "Average backtracking time: 4.679864803949992 seconds\n"
     ]
    }
   ],
   "execution_count": 630
  }
 ],
 "metadata": {
  "kernelspec": {
   "display_name": "Python 3 (ipykernel)",
   "language": "python",
   "name": "python3"
  },
  "language_info": {
   "name": "python",
   "version": "3.9.13"
  }
 },
 "nbformat": 4,
 "nbformat_minor": 2
}
